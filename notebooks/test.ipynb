{
 "cells": [
  {
   "cell_type": "code",
   "execution_count": 1,
   "metadata": {},
   "outputs": [],
   "source": [
    "import requests"
   ]
  },
  {
   "cell_type": "code",
   "execution_count": 8,
   "metadata": {},
   "outputs": [],
   "source": [
    "url = \"http://127.0.0.1:8000/api/V1/predict\""
   ]
  },
  {
   "cell_type": "code",
   "execution_count": 9,
   "metadata": {},
   "outputs": [],
   "source": [
    "data = {\n",
    "    \"no_of_dependents\": 4,\n",
    "    \"education\": 1,\n",
    "    \"self_employed\": 1,\n",
    "    \"income_annum\": 8900000,\n",
    "    \"loan_amount\": 34000000,\n",
    "    \"loan_term\": 20,\n",
    "    \"cibil_score\": 415,\n",
    "    \"residential_assets_value\": 13500000,\n",
    "    \"commercial_assets_value\": 3100000,\n",
    "    \"luxury_assets_value\": 33600000,\n",
    "    \"bank_asset_value\": 12800000,\n",
    "}\n"
   ]
  },
  {
   "cell_type": "code",
   "execution_count": 10,
   "metadata": {},
   "outputs": [
    {
     "name": "stdout",
     "output_type": "stream",
     "text": [
      "3.93 ms ± 383 μs per loop (mean ± std. dev. of 5 runs, 15 loops each)\n"
     ]
    }
   ],
   "source": [
    "res = requests.post(url, json=data)\n",
    "res.json()"
   ]
  },
  {
   "cell_type": "code",
   "execution_count": null,
   "metadata": {},
   "outputs": [],
   "source": []
  }
 ],
 "metadata": {
  "kernelspec": {
   "display_name": "base",
   "language": "python",
   "name": "python3"
  },
  "language_info": {
   "codemirror_mode": {
    "name": "ipython",
    "version": 3
   },
   "file_extension": ".py",
   "mimetype": "text/x-python",
   "name": "python",
   "nbconvert_exporter": "python",
   "pygments_lexer": "ipython3",
   "version": "3.10.14"
  }
 },
 "nbformat": 4,
 "nbformat_minor": 2
}
